{
 "cells": [
  {
   "cell_type": "markdown",
   "source": [
    "# Klasyfikacja jakości czerwonego wina <a class=\"tocSkip\">\n",
    "'''Hubert Łapsa\n",
    "Mateusz Wójcik'''"
   ],
   "metadata": {
    "collapsed": false
   }
  },
  {
   "cell_type": "code",
   "execution_count": null,
   "outputs": [],
   "source": [
    "# Analiza danych <a class=\"analiza\">"
   ],
   "metadata": {
    "collapsed": false,
    "pycharm": {
     "name": "#%%\n"
    }
   }
  },
  {
   "cell_type": "markdown",
   "source": [
    "## Usuwanie części danych (problem brakujących danych)"
   ],
   "metadata": {
    "collapsed": false
   }
  },
  {
   "cell_type": "code",
   "execution_count": null,
   "outputs": [],
   "source": [
    "import pandas as pd\n",
    "\n",
    "df = pd.read_csv(\"winequality-red.csv\")\n",
    "#Fukcja obliczająca procent z danego parametru\n",
    "def percentage(part, whole):\n",
    "   return (float(part) * float(whole))/100\n",
    "\n",
    "#Obliczenie ilości danych do usunięcia\n",
    "rnd = int(percentage(15, df['citric acid'].size))\n",
    "\n",
    "#Losowanie danych do usunięcia\n",
    "data = df['citric acid'].head(len(df)).sample(rnd)\n",
    "\n",
    "#Zastępowanie wylosowanych danych wartościami pustymi\n",
    "for el in data.index[0:rnd][0:rnd]:\n",
    "   df.loc[el, 'citric acid'] = ''\n",
    "\n",
    "#Zapis danych do pliku csv\n",
    "#df.to_csv('data_after_delete_some_records.csv')"
   ],
   "metadata": {
    "collapsed": false,
    "pycharm": {
     "name": "#%%\n"
    }
   }
  },
  {
   "cell_type": "markdown",
   "source": [
    "## Problem danych niezrównoważonych"
   ],
   "metadata": {
    "collapsed": false
   }
  },
  {
   "cell_type": "code",
   "execution_count": null,
   "outputs": [],
   "source": [
    "import pandas as pd\n",
    "import seaborn as sns\n",
    "import matplotlib.pyplot as plt"
   ],
   "metadata": {
    "collapsed": false,
    "pycharm": {
     "name": "#%%\n"
    }
   }
  },
  {
   "cell_type": "code",
   "execution_count": null,
   "outputs": [],
   "source": [
    "red_wines = pd.read_csv('winequality-red.csv')\n",
    "red_wines.head()\n",
    "\n",
    "\n",
    "X = red_wines.iloc[:, :-1]\n",
    "Y = red_wines.iloc[:, -1:]\n",
    "\n",
    "# Balans danych\n",
    "sns.countplot(x='quality', data=red_wines)\n",
    "plt.show()\n",
    "\n",
    "# Analiza danych odstających\n",
    "for column in X:\n",
    "    sns.boxplot(x='quality', y=column, data=red_wines)\n",
    "    plt.show()"
   ],
   "metadata": {
    "collapsed": false,
    "pycharm": {
     "name": "#%%\n"
    }
   }
  },
  {
   "cell_type": "code",
   "execution_count": null,
   "outputs": [],
   "source": [
    "# Histogram danych nierównoważonych\n",
    "sns.set(color_codes=True)\n",
    "sns.distplot(Y, kde=False, bins=6)"
   ],
   "metadata": {
    "collapsed": false,
    "pycharm": {
     "name": "#%%\n"
    }
   }
  },
  {
   "cell_type": "code",
   "execution_count": null,
   "outputs": [],
   "source": [
    "# łączenie klas\n",
    "red_wines = red_wines.replace(8, 7)\n",
    "red_wines = red_wines.replace(3, 4)\n",
    "\n",
    "X = red_wines.iloc[:, :-1]\n",
    "Y = red_wines.iloc[:, -1:]\n",
    "\n",
    "sns.set(color_codes=True)\n",
    "sns.distplot(Y, kde=False, bins=4)"
   ],
   "metadata": {
    "collapsed": false,
    "pycharm": {
     "name": "#%%\n"
    }
   }
  },
  {
   "cell_type": "code",
   "execution_count": null,
   "outputs": [],
   "source": [
    "# usunięcie nadmiaru danych\n",
    "red_wines = red_wines.drop(red_wines.query('quality == 5').sample(frac=.5).index)\n",
    "red_wines = red_wines.drop(red_wines.query('quality == 6').sample(frac=.5).index)\n",
    "X = red_wines.iloc[:, :-1]\n",
    "Y = red_wines.iloc[:, -1:]\n",
    "\n",
    "sns.set(color_codes=True)\n",
    "sns.distplot(Y, kde=False, bins=4)\n",
    "\n",
    "# duplikacja danych\n",
    "from imblearn.over_sampling import SMOTE\n",
    "smote = SMOTE(\"minority\")\n",
    "X, Y = smote.fit_sample(X, Y)\n",
    "sns.distplot(Y, kde=False, bins=6)\n",
    "\n",
    "frames = [X, Y]\n",
    "red_wines = pd.concat(frames)\n",
    "# red_wines.to_csv(\"red_wines_after_over_sampling.csv\")\n",
    "\n",
    "red_wines = pd.read_csv(\"data.csv\")\n",
    "X = red_wines.iloc[:, :-1]\n",
    "Y = red_wines.iloc[:, -1:]\n",
    "\n",
    "red_wines.isnull()"
   ],
   "metadata": {
    "collapsed": false,
    "pycharm": {
     "name": "#%%\n"
    }
   }
  },
  {
   "cell_type": "code",
   "execution_count": null,
   "outputs": [],
   "source": [
    "# Analiza danych odstających\n",
    "Q1 = X.quantile(0.25)\n",
    "Q3 = X.quantile(0.75)\n",
    "IQR = Q3 - Q1\n",
    "\n",
    "((red_wines < (Q1 - 1.5 * IQR)) | (red_wines > (Q3 + 1.5 * IQR))).sum()"
   ],
   "metadata": {
    "collapsed": false,
    "pycharm": {
     "name": "#%%\n"
    }
   }
  },
  {
   "cell_type": "code",
   "execution_count": null,
   "outputs": [],
   "source": [
    "red_wines = pd.read_csv('winequality-red.csv')\n",
    "red_wines.head()\n",
    "\n",
    "\n",
    "X = red_wines.iloc[:, :-1]\n",
    "Y = red_wines.iloc[:, -1:]\n",
    "\n",
    "# Balans danych\n",
    "sns.countplot(x='quality', data=red_wines)\n",
    "plt.show()\n",
    "\n",
    "# Analiza danych odstających\n",
    "for column in X:\n",
    "    sns.boxplot(x='quality', y=column, data=red_wines)\n",
    "    plt.show()"
   ],
   "metadata": {
    "collapsed": false,
    "pycharm": {
     "name": "#%%\n"
    }
   }
  },
  {
   "cell_type": "code",
   "execution_count": null,
   "outputs": [],
   "source": [
    "# Histogram danych nierównoważonych\n",
    "sns.set(color_codes=True)\n",
    "sns.distplot(Y, kde=False, bins=6)"
   ],
   "metadata": {
    "collapsed": false,
    "pycharm": {
     "name": "#%%\n"
    }
   }
  },
  {
   "cell_type": "code",
   "execution_count": null,
   "outputs": [],
   "source": [
    "# łączenie klas\n",
    "red_wines = red_wines.replace(8, 7)\n",
    "red_wines = red_wines.replace(3, 4)\n",
    "\n",
    "X = red_wines.iloc[:, :-1]\n",
    "Y = red_wines.iloc[:, -1:]\n",
    "\n",
    "sns.set(color_codes=True)\n",
    "sns.distplot(Y, kde=False, bins=4)"
   ],
   "metadata": {
    "collapsed": false,
    "pycharm": {
     "name": "#%%\n"
    }
   }
  },
  {
   "cell_type": "code",
   "execution_count": null,
   "outputs": [],
   "source": [
    "# usunięcie nadmiaru danych\n",
    "red_wines = red_wines.drop(red_wines.query('quality == 5').sample(frac=.5).index)\n",
    "red_wines = red_wines.drop(red_wines.query('quality == 6').sample(frac=.5).index)\n",
    "X = red_wines.iloc[:, :-1]\n",
    "Y = red_wines.iloc[:, -1:]\n",
    "\n",
    "sns.set(color_codes=True)\n",
    "sns.distplot(Y, kde=False, bins=4)\n",
    "\n",
    "# duplikacja danych\n",
    "from imblearn.over_sampling import SMOTE\n",
    "smote = SMOTE(\"minority\")\n",
    "X, Y = smote.fit_sample(X, Y)\n",
    "sns.distplot(Y, kde=False, bins=6)\n",
    "\n",
    "frames = [X, Y]\n",
    "red_wines = pd.concat(frames)\n",
    "# red_wines.to_csv(\"red_wines_after_over_sampling.csv\")\n",
    "\n",
    "red_wines = pd.read_csv(\"data.csv\")\n",
    "X = red_wines.iloc[:, :-1]\n",
    "Y = red_wines.iloc[:, -1:]\n",
    "\n",
    "red_wines.isnull()"
   ],
   "metadata": {
    "collapsed": false,
    "pycharm": {
     "name": "#%%\n"
    }
   }
  },
  {
   "cell_type": "markdown",
   "source": [
    "## Problem danych brakujących"
   ],
   "metadata": {
    "collapsed": false
   }
  },
  {
   "cell_type": "code",
   "execution_count": null,
   "outputs": [],
   "source": [
    "from sklearn.impute import KNNImputer\n",
    "import pandas as pd\n",
    "\n",
    "#Deklaracja Imputer-a, parameter n_neighbors oznacza ilość sąsiadów\n",
    "imputer = KNNImputer(n_neighbors=5)\n",
    "\n",
    "data = pd.read_csv('data.csv')\n",
    "\n",
    "#uzupełnianie danych brakujących\n",
    "df_filled = imputer.fit_transform(data)"
   ],
   "metadata": {
    "collapsed": false,
    "pycharm": {
     "name": "#%%\n"
    }
   }
  },
  {
   "cell_type": "markdown",
   "source": [
    "## Problem danych odstających"
   ],
   "metadata": {
    "collapsed": false
   }
  },
  {
   "cell_type": "code",
   "execution_count": null,
   "outputs": [],
   "source": [
    "# Analiza danych odstających\n",
    "Q1 = X.quantile(0.25)\n",
    "Q3 = X.quantile(0.75)\n",
    "IQR = Q3 - Q1\n",
    "\n",
    "((red_wines < (Q1 - 1.5 * IQR)) | (red_wines > (Q3 + 1.5 * IQR))).sum()"
   ],
   "metadata": {
    "collapsed": false,
    "pycharm": {
     "name": "#%%\n"
    }
   }
  },
  {
   "cell_type": "markdown",
   "source": [
    "# Preprocessing danych <a class=\"preprocessing\">\n"
   ],
   "metadata": {
    "collapsed": false
   }
  },
  {
   "cell_type": "markdown",
   "source": [
    "## Normalizacja"
   ],
   "metadata": {
    "collapsed": false
   }
  },
  {
   "cell_type": "code",
   "execution_count": null,
   "outputs": [],
   "source": [
    "from sklearn.preprocessing import MinMaxScaler\n",
    "\n",
    "import pandas as pd\n",
    "\n",
    "mms = MinMaxScaler()\n",
    "\n",
    "df = pd.read_csv('data.csv')\n",
    "\n",
    "x = df.values\n",
    "\n",
    "min_max_scaler = MinMaxScaler()\n",
    "x_scaled = min_max_scaler.fit_transform(x)\n",
    "\n",
    "df = pd.DataFrame(x_scaled)"
   ],
   "metadata": {
    "collapsed": false,
    "pycharm": {
     "name": "#%%\n"
    }
   }
  },
  {
   "cell_type": "markdown",
   "source": [
    "## Standaryzacja"
   ],
   "metadata": {
    "collapsed": false
   }
  },
  {
   "cell_type": "code",
   "execution_count": null,
   "outputs": [],
   "source": [
    "from sklearn.preprocessing import StandardScaler\n",
    "\n",
    "import pandas as pd\n",
    "\n",
    "df = pd.read_csv('data.csv')\n",
    "\n",
    "x = df.values\n",
    "\n",
    "stdsc = StandardScaler()\n",
    "x_scaled = stdsc.fit_transform(x)\n",
    "\n",
    "df = pd.DataFrame(x_scaled)"
   ],
   "metadata": {
    "collapsed": false,
    "pycharm": {
     "name": "#%%\n"
    }
   }
  },
  {
   "cell_type": "markdown",
   "source": [
    "# Redukcja wymiarowości <a class=\"reduction\">"
   ],
   "metadata": {
    "collapsed": false
   }
  },
  {
   "cell_type": "markdown",
   "source": [
    "## Selekcja cech (Sequential Backward  Selector)"
   ],
   "metadata": {
    "collapsed": false
   }
  },
  {
   "cell_type": "code",
   "execution_count": null,
   "outputs": [],
   "source": [
    "from mlxtend.feature_selection import SequentialFeatureSelector as SBS\n",
    "from sklearn.model_selection import train_test_split\n",
    "from sklearn.neighbors import KNeighborsClassifier\n",
    "import pandas as pd\n",
    "\n",
    "red_wines = pd.read_csv(\"data.csv\")\n",
    "X = red_wines.iloc[:, :-1]\n",
    "Y = red_wines.iloc[:, -1:]\n",
    "\n",
    "X_TRAIN, X_TEST, Y_TRAIN, Y_TEST = train_test_split(X, Y, test_size=0.25)\n",
    "\n",
    "knn = KNeighborsClassifier(n_neighbors=4)\n",
    "\n",
    "sbs = SBS(knn,\n",
    "         k_features=3,\n",
    "         forward=False,\n",
    "         floating=False,\n",
    "         scoring='accuracy',\n",
    "         cv=4,\n",
    "         n_jobs=-1)\n",
    "\n",
    "sbs = sbs.fit(X_TRAIN, Y_TRAIN.values.ravel())"
   ],
   "metadata": {
    "collapsed": false,
    "pycharm": {
     "name": "#%%\n"
    }
   }
  },
  {
   "cell_type": "markdown",
   "source": [
    "## Selekcja cech (Sequential Feature Selector)"
   ],
   "metadata": {
    "collapsed": false
   }
  },
  {
   "cell_type": "code",
   "execution_count": null,
   "outputs": [],
   "source": [
    "from mlxtend.feature_selection import SequentialFeatureSelector as SBS\n",
    "from sklearn.model_selection import train_test_split\n",
    "from sklearn.neighbors import KNeighborsClassifier\n",
    "import pandas as pd\n",
    "\n",
    "red_wines = pd.read_csv(\"data.csv\")\n",
    "X = red_wines.iloc[:, :-1]\n",
    "Y = red_wines.iloc[:, -1:]\n",
    "\n",
    "X_TRAIN, X_TEST, Y_TRAIN, Y_TEST = train_test_split(X, Y, test_size=0.25)\n",
    "\n",
    "knn = KNeighborsClassifier(n_neighbors=4)\n",
    "\n",
    "sbs = SBS(knn,\n",
    "          k_features=3,\n",
    "          forward=False,\n",
    "          floating=False,\n",
    "          scoring='accuracy',\n",
    "          cv=4,\n",
    "          n_jobs=-1)\n",
    "\n",
    "sbs = sbs.fit(X_TRAIN, Y_TRAIN.values.ravel())"
   ],
   "metadata": {
    "collapsed": false,
    "pycharm": {
     "name": "#%%\n"
    }
   }
  },
  {
   "cell_type": "markdown",
   "source": [
    "## Analiza głównych składowych"
   ],
   "metadata": {
    "collapsed": false
   }
  },
  {
   "cell_type": "code",
   "execution_count": null,
   "outputs": [],
   "source": [
    "from sklearn.decomposition import PCA\n",
    "pca = PCA(n_components=2)\n",
    "X_train_pca = pca.fit_transform(X_train_std)\n",
    "X_test_pca = pca.transform(X_test_std)\n",
    "# algorytm.fit(X_train_pca, y_train)"
   ],
   "metadata": {
    "collapsed": false,
    "pycharm": {
     "name": "#%%\n"
    }
   }
  },
  {
   "cell_type": "markdown",
   "source": [
    "### Wybrane algorytmy uczenia maszynowego"
   ],
   "metadata": {
    "collapsed": false
   }
  },
  {
   "cell_type": "markdown",
   "source": [
    "## Algorytm k-najbliższych sąsiadów (KNN)\n",
    "from sklearn.neighbors import KNeighborsClassifier\n",
    "from sklearn.model_selection import train_test_split\n",
    "import pandas as pd\n",
    "\n",
    "knn = KNeighborsClassifier(n_neighbors=5, p=2, metric='minkowski')\n",
    "\n",
    "red_wines = pd.read_csv(\"data.csv\")\n",
    "X = red_wines.iloc[:, :-1]\n",
    "Y = red_wines.iloc[:, -1:]\n",
    "\n",
    "X_TRAIN, X_TEST, Y_TRAIN, Y_TEST = train_test_split(X,Y, test_size=0.25, random_state=0)\n",
    "\n",
    "knn.fit(X_TRAIN, Y_TRAIN)"
   ],
   "metadata": {
    "collapsed": false
   }
  },
  {
   "cell_type": "code",
   "execution_count": null,
   "outputs": [],
   "source": [
    "from sklearn.neighbors import KNeighborsClassifier\n",
    "from sklearn.model_selection import train_test_split\n",
    "import pandas as pd\n",
    "\n",
    "knn = KNeighborsClassifier(n_neighbors=5, p=2, metric='minkowski')\n",
    "\n",
    "red_wines = pd.read_csv(\"data.csv\")\n",
    "X = red_wines.iloc[:, :-1]\n",
    "Y = red_wines.iloc[:, -1:]\n",
    "\n",
    "X_TRAIN, X_TEST, Y_TRAIN, Y_TEST = train_test_split(X,Y, test_size=0.25, random_state=0)\n",
    "\n",
    "knn.fit(X_TRAIN, Y_TRAIN)"
   ],
   "metadata": {
    "collapsed": false,
    "pycharm": {
     "name": "#%%\n"
    }
   }
  },
  {
   "cell_type": "markdown",
   "source": [
    "## Klasyfikator drzewa decyzyjnego\n",
    "from sklearn.tree import DecisionTreeClassifier\n",
    "from sklearn.model_selection import train_test_split\n",
    "from sklearn.metrics import confusion_matrix\n",
    "import pandas as pd\n",
    "\n",
    "dt = DecisionTreeClassifier()\n",
    "\n",
    "red_wines = pd.read_csv(\"data.csv\")\n",
    "X = red_wines.iloc[:, :-1]\n",
    "Y = red_wines.iloc[:, -1:]\n",
    "\n",
    "X_TRAIN, X_TEST, Y_TRAIN, Y_TEST = train_test_split(X, Y, test_size=0.25)\n",
    "\n",
    "dt.fit(X_TRAIN, Y_TRAIN.values.ravel())"
   ],
   "metadata": {
    "collapsed": false
   }
  },
  {
   "cell_type": "code",
   "execution_count": null,
   "outputs": [],
   "source": [
    "from sklearn.tree import DecisionTreeClassifier\n",
    "from sklearn.model_selection import train_test_split\n",
    "from sklearn.metrics import confusion_matrix\n",
    "import pandas as pd\n",
    "\n",
    "dt = DecisionTreeClassifier()\n",
    "\n",
    "red_wines = pd.read_csv(\"data.csv\")\n",
    "X = red_wines.iloc[:, :-1]\n",
    "Y = red_wines.iloc[:, -1:]\n",
    "\n",
    "X_TRAIN, X_TEST, Y_TRAIN, Y_TEST = train_test_split(X, Y, test_size=0.25)\n",
    "\n",
    "dt.fit(X_TRAIN, Y_TRAIN.values.ravel())"
   ],
   "metadata": {
    "collapsed": false,
    "pycharm": {
     "name": "#%%\n"
    }
   }
  },
  {
   "cell_type": "markdown",
   "source": [
    "## Regresja logistyczna"
   ],
   "metadata": {
    "collapsed": false
   }
  },
  {
   "cell_type": "code",
   "execution_count": null,
   "outputs": [],
   "source": [
    "import pandas as pd\n",
    "from sklearn.linear_model import LogisticRegression\n",
    "from sklearn.model_selection import train_test_split\n",
    "\n",
    "red_wines = pd.read_csv(\"data.csv\")\n",
    "\n",
    "X = red_wines.iloc[:, :-1]\n",
    "Y = red_wines.iloc[:, -1:]\n",
    "\n",
    "X_TRAIN, X_TEST, Y_TRAIN, Y_TEST = train_test_split(X, Y, test_size=0.20)\n",
    "\n",
    "model = LogisticRegression(multi_class='ovr', max_iter=10000)\n",
    "\n",
    "model.fit(X_TRAIN, Y_TRAIN.values.ravel())"
   ],
   "metadata": {
    "collapsed": false,
    "pycharm": {
     "name": "#%%\n"
    }
   }
  },
  {
   "cell_type": "markdown",
   "source": [
    "## Maszyna wektorów nośnych\n"
   ],
   "metadata": {
    "collapsed": false
   }
  },
  {
   "cell_type": "code",
   "execution_count": null,
   "outputs": [],
   "source": [
    "import pandas as pd\n",
    "from sklearn.model_selection import train_test_split\n",
    "from sklearn.svm import SVC\n",
    "\n",
    "red_wines = pd.read_csv(\"data.csv\")\n",
    "\n",
    "X = red_wines.iloc[:, :-1]\n",
    "Y = red_wines.iloc[:, -1:]\n",
    "\n",
    "X_train, X_test, Y_TRAIN, Y_TEST = train_test_split(X, Y, test_size = 0.20)\n",
    "\n",
    "svclassifier = SVC(kernel='linear')\n",
    "svclassifier.fit(X_train, Y_TRAIN.values.ravel())"
   ],
   "metadata": {
    "collapsed": false,
    "pycharm": {
     "name": "#%%\n"
    }
   }
  },
  {
   "cell_type": "markdown",
   "source": [
    "## Las losowy\n",
    "from sklearn.ensemble import RandomForestRegressor\n",
    "rf = RandomForestRegressor(n_estimators = 1000, random_state = 42)\n",
    "red_wines = pd.read_csv(\"data.csv\")\n",
    "   X = red_wines.iloc[:, :-1]\n",
    "   Y = red_wines.iloc[:, -1:]\n",
    "\n",
    "   X_TRAIN, X_TEST, Y_TRAIN, Y_TEST = train_test_split(X, Y, test_size=0.25)\n",
    "\n",
    "rf.fit(X_TRAIN, Y_TRAIN)"
   ],
   "metadata": {
    "collapsed": false
   }
  },
  {
   "cell_type": "code",
   "execution_count": null,
   "outputs": [],
   "source": [
    "from sklearn.ensemble import RandomForestRegressor\n",
    "rf = RandomForestRegressor(n_estimators = 1000, random_state = 42)\n",
    "red_wines = pd.read_csv(\"data.csv\")\n",
    "   X = red_wines.iloc[:, :-1]\n",
    "   Y = red_wines.iloc[:, -1:]\n",
    "\n",
    "   X_TRAIN, X_TEST, Y_TRAIN, Y_TEST = train_test_split(X, Y, test_size=0.25)\n",
    "\n",
    "rf.fit(X_TRAIN, Y_TRAIN)"
   ],
   "metadata": {
    "collapsed": false,
    "pycharm": {
     "name": "#%%\n"
    }
   }
  },
  {
   "cell_type": "markdown",
   "source": [
    "### Metryka\n",
    "from sklearn.model_selection import train_test_split\n",
    "import pandas as pd\n",
    "\n",
    "# Dzielenie na podzbiory\n",
    "\n",
    "red_wines = pd.read_csv(\"data.csv\")\n",
    "X = red_wines.iloc[:, :-1]\n",
    "Y = red_wines.iloc[:, -1:]\n",
    "\n",
    "X_TRAIN, X_TEST, Y_TRAIN, Y_TEST = train_test_split(X, Y, test_size=0.25, random_state=0)\n",
    "\n",
    "# Nauka\n",
    "\n",
    "# todo: Tutaj uczy się algorytm\n",
    "\n",
    "# Test skuteczności\n",
    "from sklearn import metrics\n",
    "\n",
    "cm = metrics.confusion_matrix(Y_TEST, y_pred)\n",
    "print(cm)\n",
    "accuracy = metrics.accuracy_score(Y_TEST, y_pred)\n",
    "print(\"Accuracy score:\", accuracy)\n",
    "precision = metrics.precision_score(Y_TEST, y_pred, average='micro')\n",
    "print(\"Precision score:\", precision)\n",
    "recall = metrics.recall_score(Y_TEST, y_pred, average='micro')\n",
    "print(\"Recall score:\", recall)"
   ],
   "metadata": {
    "collapsed": false
   }
  },
  {
   "cell_type": "code",
   "execution_count": null,
   "outputs": [],
   "source": [
    "from sklearn.model_selection import train_test_split\n",
    "import pandas as pd\n",
    "\n",
    "# Dzielenie na podzbiory\n",
    "\n",
    "red_wines = pd.read_csv(\"data.csv\")\n",
    "X = red_wines.iloc[:, :-1]\n",
    "Y = red_wines.iloc[:, -1:]\n",
    "\n",
    "X_TRAIN, X_TEST, Y_TRAIN, Y_TEST = train_test_split(X, Y, test_size=0.25, random_state=0)"
   ],
   "metadata": {
    "collapsed": false,
    "pycharm": {
     "name": "#%%\n"
    }
   }
  },
  {
   "cell_type": "code",
   "execution_count": 1,
   "outputs": [
    {
     "ename": "NameError",
     "evalue": "name 'Y_TEST' is not defined",
     "output_type": "error",
     "traceback": [
      "\u001B[1;31m---------------------------------------------------------------------------\u001B[0m",
      "\u001B[1;31mNameError\u001B[0m                                 Traceback (most recent call last)",
      "\u001B[1;32m<ipython-input-1-5a08e87ac183>\u001B[0m in \u001B[0;36m<module>\u001B[1;34m\u001B[0m\n\u001B[0;32m      3\u001B[0m \u001B[1;32mfrom\u001B[0m \u001B[0msklearn\u001B[0m \u001B[1;32mimport\u001B[0m \u001B[0mmetrics\u001B[0m\u001B[1;33m\u001B[0m\u001B[1;33m\u001B[0m\u001B[0m\n\u001B[0;32m      4\u001B[0m \u001B[1;33m\u001B[0m\u001B[0m\n\u001B[1;32m----> 5\u001B[1;33m \u001B[0mcm\u001B[0m \u001B[1;33m=\u001B[0m \u001B[0mmetrics\u001B[0m\u001B[1;33m.\u001B[0m\u001B[0mconfusion_matrix\u001B[0m\u001B[1;33m(\u001B[0m\u001B[0mY_TEST\u001B[0m\u001B[1;33m,\u001B[0m \u001B[0my_pred\u001B[0m\u001B[1;33m)\u001B[0m\u001B[1;33m\u001B[0m\u001B[1;33m\u001B[0m\u001B[0m\n\u001B[0m\u001B[0;32m      6\u001B[0m \u001B[0mprint\u001B[0m\u001B[1;33m(\u001B[0m\u001B[0mcm\u001B[0m\u001B[1;33m)\u001B[0m\u001B[1;33m\u001B[0m\u001B[1;33m\u001B[0m\u001B[0m\n\u001B[0;32m      7\u001B[0m \u001B[0maccuracy\u001B[0m \u001B[1;33m=\u001B[0m \u001B[0mmetrics\u001B[0m\u001B[1;33m.\u001B[0m\u001B[0maccuracy_score\u001B[0m\u001B[1;33m(\u001B[0m\u001B[0mY_TEST\u001B[0m\u001B[1;33m,\u001B[0m \u001B[0my_pred\u001B[0m\u001B[1;33m)\u001B[0m\u001B[1;33m\u001B[0m\u001B[1;33m\u001B[0m\u001B[0m\n",
      "\u001B[1;31mNameError\u001B[0m: name 'Y_TEST' is not defined"
     ]
    }
   ],
   "source": [
    "# Test skuteczności\n",
    "\n",
    "from sklearn import metrics\n",
    "\n",
    "cm = metrics.confusion_matrix(Y_TEST, y_pred)\n",
    "print(cm)\n",
    "accuracy = metrics.accuracy_score(Y_TEST, y_pred)\n",
    "print(\"Accuracy score:\", accuracy)\n",
    "precision = metrics.precision_score(Y_TEST, y_pred, average='micro')\n",
    "print(\"Precision score:\", precision)\n",
    "recall = metrics.recall_score(Y_TEST, y_pred, average='micro')\n",
    "print(\"Recall score:\", recall)"
   ],
   "metadata": {
    "collapsed": false,
    "pycharm": {
     "name": "#%%\n"
    }
   }
  },
  {
   "cell_type": "code",
   "execution_count": null,
   "outputs": [],
   "source": [
    "\n"
   ],
   "metadata": {
    "collapsed": false,
    "pycharm": {
     "name": "#%%\n"
    }
   }
  }
 ],
 "metadata": {
  "celltoolbar": "Edit Metadata",
  "kernelspec": {
   "display_name": "Python 3",
   "language": "python",
   "name": "python3"
  },
  "language_info": {
   "codemirror_mode": {
    "name": "ipython",
    "version": 3
   },
   "file_extension": ".py",
   "mimetype": "text/x-python",
   "name": "python",
   "nbconvert_exporter": "python",
   "pygments_lexer": "ipython3",
   "version": "3.7.6"
  },
  "toc": {
   "base_numbering": 1,
   "nav_menu": {},
   "number_sections": true,
   "sideBar": true,
   "skip_h1_title": false,
   "title_cell": "Table of Contents",
   "title_sidebar": "Contents",
   "toc_cell": false,
   "toc_position": {},
   "toc_section_display": true,
   "toc_window_display": true
  }
 },
 "nbformat": 4,
 "nbformat_minor": 1
}