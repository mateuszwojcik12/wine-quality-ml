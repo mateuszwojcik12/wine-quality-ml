{
 "cells": [
  {
   "cell_type": "markdown",
   "metadata": {
    "pycharm": {
     "name": "#%% md\n"
    }
   },
   "source": [
    "# Klasyfikacja jakości czerwonego wina\n",
    "'''Hubert Łapsa\n",
    "Mateusz Wójcik'''"
   ]
  },
  {
   "cell_type": "code",
   "execution_count": 12,
   "metadata": {
    "pycharm": {
     "name": "#%%\n"
    }
   },
   "outputs": [],
   "source": [
    "## Analiza danych\n",
    "### Usuwanie części danych (problem brakujących danych)\n",
    "import pandas as pd\n",
    "\n",
    "df = pd.read_csv(\"winequality-red.csv\")\n",
    "#Fukcja obliczająca procent z danego parametru\n",
    "def percentage(part, whole):\n",
    "   return (float(part) * float(whole))/100\n",
    "\n",
    "#Obliczenie ilości danych do usunięcia\n",
    "rnd = int(percentage(15, df['citric acid'].size))\n",
    "\n",
    "#Losowanie danych do usunięcia\n",
    "data = df['citric acid'].head(len(df)).sample(rnd)\n",
    "\n",
    "#Zastępowanie wylosowanych danych wartościami pustymi\n",
    "for el in data.index[0:rnd][0:rnd]:\n",
    "   df.loc[el, 'citric acid'] = ''\n",
    "\n",
    "#Zapis danych do pliku csv\n",
    "df.to_csv('data_after_delete_some_records.csv')"
   ]
  },
  {
   "cell_type": "code",
   "execution_count": null,
   "metadata": {
    "pycharm": {
     "name": "#%%\n"
    }
   },
   "outputs": [],
   "source": [
    "\n"
   ]
  }
 ],
 "metadata": {
  "kernelspec": {
   "display_name": "Python 3",
   "language": "python",
   "name": "python3"
  },
  "language_info": {
   "codemirror_mode": {
    "name": "ipython",
    "version": 3
   },
   "file_extension": ".py",
   "mimetype": "text/x-python",
   "name": "python",
   "nbconvert_exporter": "python",
   "pygments_lexer": "ipython3",
   "version": "3.8.2"
  }
 },
 "nbformat": 4,
 "nbformat_minor": 1
}